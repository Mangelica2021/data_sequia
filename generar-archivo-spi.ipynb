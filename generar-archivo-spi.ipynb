{
 "cells": [
  {
   "cell_type": "code",
   "execution_count": 1,
   "id": "b0ea4396",
   "metadata": {},
   "outputs": [],
   "source": [
    "import pandas as pd\n",
    "import numpy as np\n"
   ]
  },
  {
   "cell_type": "code",
   "execution_count": 2,
   "id": "3d038680",
   "metadata": {},
   "outputs": [],
   "source": [
    "cpath = 'estaciones_spi/'\n",
    "\n",
    "cfile_pp = 'pre-m_1975-2020_series.csv'\n",
    "cfile_tmax = 'tmax-m_1975-2020_series.csv'\n",
    "cfile_tmin = 'tmin-m_1975-2020_series.csv'\n",
    "\n",
    "file_pp = cpath + cfile_pp\n",
    "file_tmax = cpath + cfile_tmax\n",
    "file_tmin = cpath + cfile_tmin\n",
    "\n",
    "df_pp = pd.read_csv(file_pp)\n",
    "df_tmax = pd.read_csv(file_tmax)\n",
    "df_tmin = pd.read_csv(file_tmin)"
   ]
  },
  {
   "cell_type": "code",
   "execution_count": 3,
   "id": "a2d8591e",
   "metadata": {},
   "outputs": [],
   "source": [
    "size_pp = df_pp.shape\n"
   ]
  },
  {
   "cell_type": "code",
   "execution_count": 4,
   "id": "4acc30e2",
   "metadata": {},
   "outputs": [],
   "source": [
    "'''rescatamos los nombres de las columnas del archivo de entrada'''\n",
    "pp_cols = df_pp.columns"
   ]
  },
  {
   "cell_type": "code",
   "execution_count": 5,
   "id": "c1a8e08c",
   "metadata": {},
   "outputs": [],
   "source": [
    "'''ciclo for para las columnas'''\n",
    "for i in range (1, size_pp[1]):\n",
    "    \n",
    "    '''creamos un DF resultante vacio con columnas y filas'''\n",
    "    nombre_col = ['anio', 'mes', 'pp', 'tmax', 'tmin']\n",
    "    df_res = pd.DataFrame(columns = nombre_col, index = range (size_pp[0]))\n",
    "    \n",
    "    '''nombre de la columna en el ciclo'''\n",
    "    col_actual = pp_cols[i]\n",
    "    \n",
    "    '''asignar pp en el DF resultante'''\n",
    "    df_res['pp'] = df_pp[col_actual]\n",
    "    \n",
    "    '''verificar la columna actual en df_tmax, copiar'''\n",
    "    if col_actual in df_tmax.columns:\n",
    "        df_res['tmax'] = df_tmax[col_actual]\n",
    "    \n",
    "    '''verificar la columna actual en df_tmin, copiar'''\n",
    "    if col_actual in df_tmin.columns:\n",
    "        df_res['tmin'] = df_tmin[col_actual]\n",
    "        \n",
    "    '''ciclo for para las filas'''\n",
    "    for j in range (size_pp[0]):\n",
    "        fecha = df_pp.iloc[j,0].split('-')\n",
    "        '''llenado de las columnas: anio y mes'''\n",
    "        df_res.iloc[j,0] = fecha[0]\n",
    "        df_res.iloc[j,1] = fecha[1]\n",
    "    \n",
    "    '''guardamos el resultado en un CSV'''    \n",
    "    file_res = cpath + col_actual + '_mes.csv'\n",
    "    df_res.to_csv(file_res, index = False)\n",
    "        \n"
   ]
  },
  {
   "cell_type": "code",
   "execution_count": null,
   "id": "456fbc41",
   "metadata": {},
   "outputs": [],
   "source": []
  }
 ],
 "metadata": {
  "kernelspec": {
   "display_name": "Python 3 (ipykernel)",
   "language": "python",
   "name": "python3"
  },
  "language_info": {
   "codemirror_mode": {
    "name": "ipython",
    "version": 3
   },
   "file_extension": ".py",
   "mimetype": "text/x-python",
   "name": "python",
   "nbconvert_exporter": "python",
   "pygments_lexer": "ipython3",
   "version": "3.10.0"
  }
 },
 "nbformat": 4,
 "nbformat_minor": 5
}
